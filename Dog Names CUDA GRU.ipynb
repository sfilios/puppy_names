{
 "cells": [
  {
   "cell_type": "markdown",
   "metadata": {},
   "source": [
    "# Dog Name Generator\n",
    "A character level RNN to generate dog names. Trained on the top 500 dog names.\n",
    "\n",
    "Thanks to the PyTorch tutorials [https://pytorch.org/tutorials/intermediate/char_rnn_generation_tutorial.html]  and the Coursera Deep Learning class [https://www.coursera.org/learn/nlp-sequence-models] for the inspiration (and much of the code).\n"
   ]
  },
  {
   "cell_type": "code",
   "execution_count": 5,
   "metadata": {},
   "outputs": [],
   "source": [
    "import torch\n",
    "import numpy as np\n",
    "import matplotlib.pyplot as plt\n",
    "import random\n",
    "import numpy as np\n",
    "torch.set_default_tensor_type('torch.cuda.FloatTensor')"
   ]
  },
  {
   "cell_type": "markdown",
   "metadata": {},
   "source": [
    "### Do some preprocessing\n",
    "- import the data\n",
    "- clean it up a bit\n",
    "- Get the data as lines\n"
   ]
  },
  {
   "cell_type": "markdown",
   "metadata": {},
   "source": [
    "### Import data"
   ]
  },
  {
   "cell_type": "code",
   "execution_count": 6,
   "metadata": {},
   "outputs": [],
   "source": [
    "text = open('top_500_dog_names.txt').read()\n",
    "text = text.lower()\n",
    "text = text.replace('\\t', '')\n",
    "\n",
    "chars = list(set(text))"
   ]
  },
  {
   "cell_type": "code",
   "execution_count": 7,
   "metadata": {},
   "outputs": [],
   "source": [
    "lines = text.split('\\n')\n",
    "lines = list(filter(None, lines))"
   ]
  },
  {
   "cell_type": "markdown",
   "metadata": {},
   "source": [
    "### Create mappings"
   ]
  },
  {
   "cell_type": "code",
   "execution_count": 8,
   "metadata": {},
   "outputs": [],
   "source": [
    "# make some dictionaries so you can select each character and index from each other\n",
    "char_to_ix = { ch:i for i,ch in enumerate(chars) }\n",
    "ix_to_char = { i:ch for i,ch in enumerate(chars) }"
   ]
  },
  {
   "cell_type": "markdown",
   "metadata": {},
   "source": [
    "## Define the NN Architecture\n",
    "\n",
    "We're going to take the architecture defined in the PyTorch examples, with a couple of tweaks. We'll replace the Linear layers with some GRUs, and we are removing the input of \"category\", since we won't be generating from a category."
   ]
  },
  {
   "cell_type": "code",
   "execution_count": 10,
   "metadata": {},
   "outputs": [],
   "source": [
    "\n",
    "class RNN(torch.nn.Module):\n",
    "    def __init__(self, input_size, hidden_size, output_size):\n",
    "        super(RNN, self).__init__()\n",
    "\n",
    "        self.hidden_size = hidden_size\n",
    "        \n",
    "        self.i2h = torch.nn.GRUCell(input_size + hidden_size, hidden_size)\n",
    "        self.i2o = torch.nn.GRUCell(input_size + hidden_size, output_size)\n",
    "        self.o2o = torch.nn.Linear(hidden_size + output_size, output_size)\n",
    "        self.dropout = torch.nn.Dropout(0.25)\n",
    "        self.softmax = torch.nn.LogSoftmax(dim=1)\n",
    "\n",
    "    def forward(self, input, hidden):\n",
    "        combined = torch.cat((input, hidden), 1)\n",
    "        hidden = self.i2h(combined)\n",
    "        output = self.i2o(combined)\n",
    "        output_combo = torch.cat((hidden, output),1)\n",
    "        output = self.o2o(output_combo)\n",
    "        output = self.dropout(output)\n",
    "        output = self.softmax(output)\n",
    "        return output, hidden\n",
    "\n",
    "    def initHidden(self):\n",
    "        return torch.zeros(1, self.hidden_size)\n",
    "\n",
    "n_hidden = 128\n",
    "n_letters = len(chars)\n",
    "\n",
    "rnn = RNN(len(chars), n_hidden, len(chars))"
   ]
  },
  {
   "cell_type": "code",
   "execution_count": 11,
   "metadata": {},
   "outputs": [
    {
     "data": {
      "text/plain": [
       "RNN(\n",
       "  (i2h): GRUCell(155, 128)\n",
       "  (i2o): GRUCell(155, 27)\n",
       "  (o2o): Linear(in_features=155, out_features=27, bias=True)\n",
       "  (dropout): Dropout(p=0.25, inplace=False)\n",
       "  (softmax): LogSoftmax()\n",
       ")"
      ]
     },
     "execution_count": 11,
     "metadata": {},
     "output_type": "execute_result"
    }
   ],
   "source": [
    "rnn.cuda()"
   ]
  },
  {
   "cell_type": "code",
   "execution_count": 74,
   "metadata": {},
   "outputs": [],
   "source": [
    "#helper function to choose a random line\n",
    "# Random item from a list\n",
    "def randomChoice(l):\n",
    "    return l[random.randint(0, len(l) - 1)]"
   ]
  },
  {
   "cell_type": "code",
   "execution_count": 75,
   "metadata": {},
   "outputs": [],
   "source": [
    "def randomLine(your_list):\n",
    "    return your_list[random.randint(0, len(your_list)-1)]"
   ]
  },
  {
   "cell_type": "code",
   "execution_count": 76,
   "metadata": {},
   "outputs": [],
   "source": [
    "def inputTensor(line):\n",
    "    tensor = torch.zeros(len(line), 1, len(chars))\n",
    "    for li in range(len(line)):\n",
    "        letter = line[li]\n",
    "        tensor[li][0][char_to_ix.get(letter)]=1\n",
    "    return tensor\n",
    "        \n",
    "def targetTensor(line):\n",
    "    letter_indices = [char_to_ix.get(line[li]) for li in range(1, len(line))]\n",
    "    letter_indices.append(char_to_ix.get('\\n'))\n",
    "    return torch.cuda.LongTensor(letter_indices)"
   ]
  },
  {
   "cell_type": "code",
   "execution_count": 77,
   "metadata": {
    "scrolled": true
   },
   "outputs": [
    {
     "name": "stdout",
     "output_type": "stream",
     "text": [
      "torch.Size([4, 1, 27])\n",
      "tensor([ 6,  6,  5, 17])\n",
      "abby\n"
     ]
    }
   ],
   "source": [
    "print(inputTensor(lines[0]).shape)\n",
    "\n",
    "print(targetTensor(lines[0]))\n",
    "print(lines[0])"
   ]
  },
  {
   "cell_type": "code",
   "execution_count": 78,
   "metadata": {},
   "outputs": [],
   "source": [
    "criterion = torch.nn.NLLLoss()\n",
    "lr = 0.001\n",
    "opt = torch.optim.Adam(rnn.parameters(), lr=lr)\n",
    "\n",
    "\n",
    "def train(input_line_tensor, target_line_tensor):\n",
    "    # make sure the input is 3d by adding a single dim at the end\n",
    "    # use underscore for 'inplace'\n",
    "    target_line_tensor.unsqueeze_(-1)\n",
    "    \n",
    "    # initialize the hidden parameters\n",
    "    hidden = rnn.initHidden()\n",
    "    \n",
    "    rnn.zero_grad()\n",
    "    \n",
    "    loss = 0\n",
    "    \n",
    "    #do forward propagation for each letter in the line\n",
    "    for i in range(input_line_tensor.size(0)):\n",
    "        output, hidden = rnn(input_line_tensor[i], hidden)\n",
    "        #because we predict at every step, we calculate loss every step\n",
    "        curr_loss = criterion(output, target_line_tensor[i])\n",
    "#         print('crit', l,'total_loss',loss,'target',target_line_tensor[i])\n",
    "        loss += curr_loss\n",
    "    \n",
    "    if type(loss)==int:\n",
    "        print(loss, input_line_tensor)\n",
    "    loss.backward()\n",
    "    _ = torch.nn.utils.clip_grad_norm_(rnn.parameters(), 50.0)\n",
    "    opt.step()\n",
    "    # add the params\n",
    "    for p in rnn.parameters():\n",
    "        p.data.add_(p.grad.data, alpha=-lr)\n",
    "        \n",
    "    return output, loss.item()/input_line_tensor.size(0)\n"
   ]
  },
  {
   "cell_type": "code",
   "execution_count": 79,
   "metadata": {},
   "outputs": [
    {
     "name": "stdout",
     "output_type": "stream",
     "text": [
      "10000 1.2072434425354004\n",
      "20000 1.542169213294983\n",
      "30000 1.1762464046478271\n",
      "40000 1.5749554634094238\n",
      "50000 1.6325790087382\n",
      "60000 2.369881820678711\n",
      "70000 0.9134089946746826\n",
      "80000 0.1989816427230835\n",
      "90000 0.712247371673584\n",
      "100000 1.166590118408203\n"
     ]
    }
   ],
   "source": [
    "n_iter = 100000\n",
    "print_every = 10000\n",
    "plot_every = 5000\n",
    "all_losses = []\n",
    "total_loss = 0 #reset when you plot\n",
    "\n",
    "for i in range(1, n_iter+1):\n",
    "    #get a random line to predict on\n",
    "    training_example = randomLine(lines)\n",
    "    \n",
    "    #get a tensor from your lines\n",
    "    input_tensor = inputTensor(training_example)\n",
    "    target_tensor = targetTensor(training_example)\n",
    "    \n",
    "#     print(training_example)\n",
    "    output, loss = train(input_tensor, target_tensor)\n",
    "    \n",
    "    total_loss+=loss\n",
    "    \n",
    "    if i%print_every==0:\n",
    "        print(i, loss)\n",
    "    \n",
    "    if i%plot_every==0:\n",
    "        all_losses.append(total_loss/plot_every)\n",
    "        total_loss = 0\n"
   ]
  },
  {
   "cell_type": "code",
   "execution_count": 80,
   "metadata": {},
   "outputs": [
    {
     "data": {
      "text/plain": [
       "[<matplotlib.lines.Line2D at 0x7f49c3d4c110>]"
      ]
     },
     "execution_count": 80,
     "metadata": {},
     "output_type": "execute_result"
    },
    {
     "data": {
      "image/png": "[encoded data removed]",
      "text/plain": [
       "<Figure size 432x288 with 1 Axes>"
      ]
     },
     "metadata": {
      "needs_background": "light"
     },
     "output_type": "display_data"
    }
   ],
   "source": [
    "# print(total_loss)\n",
    "plt.figure()\n",
    "# print(all_losses)\n",
    "plt.plot(all_losses)"
   ]
  },
  {
   "cell_type": "markdown",
   "metadata": {},
   "source": [
    "## Sampling - The Fun Stuff\n",
    "Now that we have created a language model based on the dog names, we can sample from it to generate new names."
   ]
  },
  {
   "cell_type": "code",
   "execution_count": 81,
   "metadata": {},
   "outputs": [],
   "source": [
    "def sample(start_letter):\n",
    "    with torch.no_grad():\n",
    "        iput = inputTensor(start_letter)\n",
    "        hidden = rnn.initHidden()\n",
    "        \n",
    "        output_name = start_letter\n",
    "        \n",
    "        max_iters = 0\n",
    "        \n",
    "        while max_iters<30:\n",
    "            output, hidden = rnn(iput[0], hidden)\n",
    "            #select from the outputs according to the probability distribution\n",
    "            probs = np.exp(output.detach().cpu().numpy()).ravel()\n",
    "            ix_choice = np.random.choice(len(probs), p=probs)\n",
    "            if ix_choice == char_to_ix['\\n']:\n",
    "                break\n",
    "            else:\n",
    "                letter = ix_to_char[ix_choice]\n",
    "                output_name += letter\n",
    "                max_iters+=1\n",
    "    return output_name"
   ]
  },
  {
   "cell_type": "code",
   "execution_count": 82,
   "metadata": {},
   "outputs": [
    {
     "data": {
      "text/plain": [
       "'bajwl'"
      ]
     },
     "execution_count": 82,
     "metadata": {},
     "output_type": "execute_result"
    }
   ],
   "source": [
    "sample('b')"
   ]
  },
  {
   "cell_type": "code",
   "execution_count": 83,
   "metadata": {},
   "outputs": [
    {
     "data": {
      "text/plain": [
       "'frihvye'"
      ]
     },
     "execution_count": 83,
     "metadata": {},
     "output_type": "execute_result"
    }
   ],
   "source": [
    "sample('f')"
   ]
  },
  {
   "cell_type": "code",
   "execution_count": 84,
   "metadata": {},
   "outputs": [
    {
     "data": {
      "text/plain": [
       "'peppprsrt'"
      ]
     },
     "execution_count": 84,
     "metadata": {},
     "output_type": "execute_result"
    }
   ],
   "source": [
    "sample('p')"
   ]
  },
  {
   "cell_type": "code",
   "execution_count": 85,
   "metadata": {},
   "outputs": [
    {
     "data": {
      "text/plain": [
       "'absu'"
      ]
     },
     "execution_count": 85,
     "metadata": {},
     "output_type": "execute_result"
    }
   ],
   "source": [
    "sample('a')"
   ]
  },
  {
   "cell_type": "code",
   "execution_count": 94,
   "metadata": {},
   "outputs": [
    {
     "data": {
      "text/plain": [
       "'Ruok'"
      ]
     },
     "execution_count": 94,
     "metadata": {},
     "output_type": "execute_result"
    }
   ],
   "source": [
    "sample('Ru')"
   ]
  },
  {
   "cell_type": "code",
   "execution_count": 99,
   "metadata": {},
   "outputs": [
    {
     "data": {
      "text/plain": [
       "'clostoviya'"
      ]
     },
     "execution_count": 99,
     "metadata": {},
     "output_type": "execute_result"
    }
   ],
   "source": [
    "sample('cl')"
   ]
  },
  {
   "cell_type": "code",
   "execution_count": 100,
   "metadata": {},
   "outputs": [
    {
     "data": {
      "text/plain": [
       "'Beavakcry'"
      ]
     },
     "execution_count": 100,
     "metadata": {},
     "output_type": "execute_result"
    }
   ],
   "source": [
    "sample('Beav')"
   ]
  },
  {
   "cell_type": "code",
   "execution_count": 108,
   "metadata": {},
   "outputs": [
    {
     "data": {
      "text/plain": [
       "'Looti'"
      ]
     },
     "execution_count": 108,
     "metadata": {},
     "output_type": "execute_result"
    }
   ],
   "source": [
    "sample('Loo')"
   ]
  },
  {
   "cell_type": "code",
   "execution_count": 90,
   "metadata": {},
   "outputs": [
    {
     "data": {
      "text/plain": [
       "'honeyuoee'"
      ]
     },
     "execution_count": 90,
     "metadata": {},
     "output_type": "execute_result"
    }
   ],
   "source": [
    "sample('honey')"
   ]
  },
  {
   "cell_type": "markdown",
   "metadata": {},
   "source": [
    "Far from perfect, but definitely in the right direction."
   ]
  }
 ],
 "metadata": {
  "kernelspec": {
   "display_name": "Python 3",
   "language": "python",
   "name": "python3"
  },
  "language_info": {
   "codemirror_mode": {
    "name": "ipython",
    "version": 3
   },
   "file_extension": ".py",
   "mimetype": "text/x-python",
   "name": "python",
   "nbconvert_exporter": "python",
   "pygments_lexer": "ipython3",
   "version": "3.7.5"
  }
 },
 "nbformat": 4,
 "nbformat_minor": 2
}
